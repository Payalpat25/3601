{
  "nbformat": 4,
  "nbformat_minor": 0,
  "metadata": {
    "colab": {
      "provenance": [],
      "collapsed_sections": [
        "_bFg3ii2RenL",
        "WqDdhWrzSKOS",
        "-OawfjsjZKVo"
      ],
      "toc_visible": true,
      "include_colab_link": true
    },
    "kernelspec": {
      "name": "python3",
      "display_name": "Python 3"
    },
    "language_info": {
      "name": "python"
    }
  },
  "cells": [
    {
      "cell_type": "markdown",
      "metadata": {
        "id": "view-in-github",
        "colab_type": "text"
      },
      "source": [
        "<a href=\"https://colab.research.google.com/github/Payalpat25/3601/blob/main/Another_copy_of_CGSC_3601_Assignment_1.ipynb\" target=\"_parent\"><img src=\"https://colab.research.google.com/assets/colab-badge.svg\" alt=\"Open In Colab\"/></a>"
      ]
    },
    {
      "cell_type": "markdown",
      "source": [
        "# Assignment 1\n",
        "\n",
        "Welcome to assignment 1. Here, we'll be building on our frog by adding a **declarative memory**, so it can solve a more complex problem.\n",
        "\n",
        "Our frog's hunger is never quite sated. Desperate for more flies, it rushes to the cellar for more. But our frog doesn't remember where it left its key! The frog's keys are **colour-coded** to the doors they open, so the frog must:\n",
        "\n",
        "1. Look at the door, and remember its colour,\n",
        "2. Go to one of the keys, and check if it matches the door,\n",
        "3. If it does not match, go to the other key,\n",
        "4. Pick up the key matching the door, and\n",
        "5. Go back to the door and open it\n",
        "\n",
        "This assignment has two parts:\n",
        "\n",
        "1. This code (20 points)\n",
        "  - Evaluation is based on how often the frog manages to **open the door**. Every 5% success rate is worth one point.\n",
        "  - **Thus, if the frog succeeds 75% of the time, you get all 20 points.**\n",
        "  - If the frog succeeds 100% of the time, **you get 5 bonus points**\n",
        "2.   Short answer questions (80 points)\n",
        "  - Short answer questions will be available as a brightspace quiz\n",
        "  - If you work in groups, you should work on them together. Only one group member needs to complete the quiz\n",
        "  - The quiz will be available within a few days of the programming portion\n",
        "  - There will be **5 short answer questions**, graded from **0 to 4** (half points are possible)\n",
        "  - Your final score for the short answer questions will be 4 * the sum of your answer scores"
      ],
      "metadata": {
        "id": "XqDkdEfuRIAg"
      }
    },
    {
      "cell_type": "markdown",
      "source": [
        "### First, run this\n",
        "\n",
        "This installs the `python_actr` library, which we use to create the frog's mind, and the `pondworld` environment from my github. `pondworld` provides the tools we need to build and display the world the frog lives in."
      ],
      "metadata": {
        "id": "_bFg3ii2RenL"
      }
    },
    {
      "cell_type": "code",
      "source": [
        "%pip install python_actr git+https://github.com/eilene-ftf/pondworld.git\n"
      ],
      "metadata": {
        "id": "gJB4vxjpvy4z",
        "colab": {
          "base_uri": "https://localhost:8080/"
        },
        "outputId": "cb992c5e-720a-4d04-a82b-d3c17eae1424"
      },
      "execution_count": null,
      "outputs": [
        {
          "output_type": "stream",
          "name": "stdout",
          "text": [
            "Collecting git+https://github.com/eilene-ftf/pondworld.git\n",
            "  Cloning https://github.com/eilene-ftf/pondworld.git to /tmp/pip-req-build-tzf6apm3\n",
            "  Running command git clone --filter=blob:none --quiet https://github.com/eilene-ftf/pondworld.git /tmp/pip-req-build-tzf6apm3\n",
            "  Resolved https://github.com/eilene-ftf/pondworld.git to commit 7aa712ff4d7ad0034d2e95090831542552845893\n",
            "  Preparing metadata (setup.py) ... \u001b[?25l\u001b[?25hdone\n",
            "Collecting python_actr\n",
            "  Downloading python_actr-1.9.2.tar.gz (24 kB)\n",
            "  Preparing metadata (setup.py) ... \u001b[?25l\u001b[?25hdone\n",
            "Collecting gymnasium (from pondworld==0.0.38)\n",
            "  Downloading gymnasium-0.29.1-py3-none-any.whl (953 kB)\n",
            "\u001b[2K     \u001b[90m━━━━━━━━━━━━━━━━━━━━━━━━━━━━━━━━━━━━━━━━\u001b[0m \u001b[32m953.9/953.9 kB\u001b[0m \u001b[31m11.4 MB/s\u001b[0m eta \u001b[36m0:00:00\u001b[0m\n",
            "\u001b[?25hRequirement already satisfied: numpy in /usr/local/lib/python3.10/dist-packages (from pondworld==0.0.38) (1.23.5)\n",
            "Collecting cairosvg (from pondworld==0.0.38)\n",
            "  Downloading CairoSVG-2.7.1-py3-none-any.whl (43 kB)\n",
            "\u001b[2K     \u001b[90m━━━━━━━━━━━━━━━━━━━━━━━━━━━━━━━━━━━━━━━━\u001b[0m \u001b[32m43.2/43.2 kB\u001b[0m \u001b[31m5.4 MB/s\u001b[0m eta \u001b[36m0:00:00\u001b[0m\n",
            "\u001b[?25hRequirement already satisfied: opencv-python in /usr/local/lib/python3.10/dist-packages (from pondworld==0.0.38) (4.8.0.76)\n",
            "Collecting minigrid==2.1.1 (from pondworld==0.0.38)\n",
            "  Downloading minigrid-2.1.1-py3-none-any.whl (100 kB)\n",
            "\u001b[2K     \u001b[90m━━━━━━━━━━━━━━━━━━━━━━━━━━━━━━━━━━━━━━━━\u001b[0m \u001b[32m100.3/100.3 kB\u001b[0m \u001b[31m11.6 MB/s\u001b[0m eta \u001b[36m0:00:00\u001b[0m\n",
            "\u001b[?25hCollecting tk (from pondworld==0.0.38)\n",
            "  Downloading tk-0.1.0-py3-none-any.whl (3.9 kB)\n",
            "Collecting ipympl (from pondworld==0.0.38)\n",
            "  Downloading ipympl-0.9.3-py2.py3-none-any.whl (511 kB)\n",
            "\u001b[2K     \u001b[90m━━━━━━━━━━━━━━━━━━━━━━━━━━━━━━━━━━━━━━━━\u001b[0m \u001b[32m511.6/511.6 kB\u001b[0m \u001b[31m36.8 MB/s\u001b[0m eta \u001b[36m0:00:00\u001b[0m\n",
            "\u001b[?25hRequirement already satisfied: matplotlib>=3.0 in /usr/local/lib/python3.10/dist-packages (from minigrid==2.1.1->pondworld==0.0.38) (3.7.1)\n",
            "Requirement already satisfied: cloudpickle>=1.2.0 in /usr/local/lib/python3.10/dist-packages (from gymnasium->pondworld==0.0.38) (2.2.1)\n",
            "Requirement already satisfied: typing-extensions>=4.3.0 in /usr/local/lib/python3.10/dist-packages (from gymnasium->pondworld==0.0.38) (4.5.0)\n",
            "Collecting farama-notifications>=0.0.1 (from gymnasium->pondworld==0.0.38)\n",
            "  Downloading Farama_Notifications-0.0.4-py3-none-any.whl (2.5 kB)\n",
            "Collecting cairocffi (from cairosvg->pondworld==0.0.38)\n",
            "  Downloading cairocffi-1.6.1-py3-none-any.whl (75 kB)\n",
            "\u001b[2K     \u001b[90m━━━━━━━━━━━━━━━━━━━━━━━━━━━━━━━━━━━━━━━━\u001b[0m \u001b[32m75.1/75.1 kB\u001b[0m \u001b[31m8.5 MB/s\u001b[0m eta \u001b[36m0:00:00\u001b[0m\n",
            "\u001b[?25hCollecting cssselect2 (from cairosvg->pondworld==0.0.38)\n",
            "  Downloading cssselect2-0.7.0-py3-none-any.whl (15 kB)\n",
            "Requirement already satisfied: defusedxml in /usr/local/lib/python3.10/dist-packages (from cairosvg->pondworld==0.0.38) (0.7.1)\n",
            "Requirement already satisfied: pillow in /usr/local/lib/python3.10/dist-packages (from cairosvg->pondworld==0.0.38) (9.4.0)\n",
            "Requirement already satisfied: tinycss2 in /usr/local/lib/python3.10/dist-packages (from cairosvg->pondworld==0.0.38) (1.2.1)\n",
            "Requirement already satisfied: ipython<9 in /usr/local/lib/python3.10/dist-packages (from ipympl->pondworld==0.0.38) (7.34.0)\n",
            "Requirement already satisfied: ipython-genutils in /usr/local/lib/python3.10/dist-packages (from ipympl->pondworld==0.0.38) (0.2.0)\n",
            "Requirement already satisfied: traitlets<6 in /usr/local/lib/python3.10/dist-packages (from ipympl->pondworld==0.0.38) (5.7.1)\n",
            "Requirement already satisfied: ipywidgets<9,>=7.6.0 in /usr/local/lib/python3.10/dist-packages (from ipympl->pondworld==0.0.38) (7.7.1)\n",
            "Requirement already satisfied: setuptools>=18.5 in /usr/local/lib/python3.10/dist-packages (from ipython<9->ipympl->pondworld==0.0.38) (67.7.2)\n",
            "Collecting jedi>=0.16 (from ipython<9->ipympl->pondworld==0.0.38)\n",
            "  Downloading jedi-0.19.1-py2.py3-none-any.whl (1.6 MB)\n",
            "\u001b[2K     \u001b[90m━━━━━━━━━━━━━━━━━━━━━━━━━━━━━━━━━━━━━━━━\u001b[0m \u001b[32m1.6/1.6 MB\u001b[0m \u001b[31m61.4 MB/s\u001b[0m eta \u001b[36m0:00:00\u001b[0m\n",
            "\u001b[?25hRequirement already satisfied: decorator in /usr/local/lib/python3.10/dist-packages (from ipython<9->ipympl->pondworld==0.0.38) (4.4.2)\n",
            "Requirement already satisfied: pickleshare in /usr/local/lib/python3.10/dist-packages (from ipython<9->ipympl->pondworld==0.0.38) (0.7.5)\n",
            "Requirement already satisfied: prompt-toolkit!=3.0.0,!=3.0.1,<3.1.0,>=2.0.0 in /usr/local/lib/python3.10/dist-packages (from ipython<9->ipympl->pondworld==0.0.38) (3.0.39)\n",
            "Requirement already satisfied: pygments in /usr/local/lib/python3.10/dist-packages (from ipython<9->ipympl->pondworld==0.0.38) (2.16.1)\n",
            "Requirement already satisfied: backcall in /usr/local/lib/python3.10/dist-packages (from ipython<9->ipympl->pondworld==0.0.38) (0.2.0)\n",
            "Requirement already satisfied: matplotlib-inline in /usr/local/lib/python3.10/dist-packages (from ipython<9->ipympl->pondworld==0.0.38) (0.1.6)\n",
            "Requirement already satisfied: pexpect>4.3 in /usr/local/lib/python3.10/dist-packages (from ipython<9->ipympl->pondworld==0.0.38) (4.8.0)\n",
            "Requirement already satisfied: ipykernel>=4.5.1 in /usr/local/lib/python3.10/dist-packages (from ipywidgets<9,>=7.6.0->ipympl->pondworld==0.0.38) (5.5.6)\n",
            "Requirement already satisfied: widgetsnbextension~=3.6.0 in /usr/local/lib/python3.10/dist-packages (from ipywidgets<9,>=7.6.0->ipympl->pondworld==0.0.38) (3.6.6)\n",
            "Requirement already satisfied: jupyterlab-widgets>=1.0.0 in /usr/local/lib/python3.10/dist-packages (from ipywidgets<9,>=7.6.0->ipympl->pondworld==0.0.38) (3.0.9)\n",
            "Requirement already satisfied: contourpy>=1.0.1 in /usr/local/lib/python3.10/dist-packages (from matplotlib>=3.0->minigrid==2.1.1->pondworld==0.0.38) (1.1.1)\n",
            "Requirement already satisfied: cycler>=0.10 in /usr/local/lib/python3.10/dist-packages (from matplotlib>=3.0->minigrid==2.1.1->pondworld==0.0.38) (0.12.1)\n",
            "Requirement already satisfied: fonttools>=4.22.0 in /usr/local/lib/python3.10/dist-packages (from matplotlib>=3.0->minigrid==2.1.1->pondworld==0.0.38) (4.43.1)\n",
            "Requirement already satisfied: kiwisolver>=1.0.1 in /usr/local/lib/python3.10/dist-packages (from matplotlib>=3.0->minigrid==2.1.1->pondworld==0.0.38) (1.4.5)\n",
            "Requirement already satisfied: packaging>=20.0 in /usr/local/lib/python3.10/dist-packages (from matplotlib>=3.0->minigrid==2.1.1->pondworld==0.0.38) (23.2)\n",
            "Requirement already satisfied: pyparsing>=2.3.1 in /usr/local/lib/python3.10/dist-packages (from matplotlib>=3.0->minigrid==2.1.1->pondworld==0.0.38) (3.1.1)\n",
            "Requirement already satisfied: python-dateutil>=2.7 in /usr/local/lib/python3.10/dist-packages (from matplotlib>=3.0->minigrid==2.1.1->pondworld==0.0.38) (2.8.2)\n",
            "Requirement already satisfied: cffi>=1.1.0 in /usr/local/lib/python3.10/dist-packages (from cairocffi->cairosvg->pondworld==0.0.38) (1.16.0)\n",
            "Requirement already satisfied: webencodings in /usr/local/lib/python3.10/dist-packages (from cssselect2->cairosvg->pondworld==0.0.38) (0.5.1)\n",
            "Requirement already satisfied: pycparser in /usr/local/lib/python3.10/dist-packages (from cffi>=1.1.0->cairocffi->cairosvg->pondworld==0.0.38) (2.21)\n",
            "Requirement already satisfied: jupyter-client in /usr/local/lib/python3.10/dist-packages (from ipykernel>=4.5.1->ipywidgets<9,>=7.6.0->ipympl->pondworld==0.0.38) (6.1.12)\n",
            "Requirement already satisfied: tornado>=4.2 in /usr/local/lib/python3.10/dist-packages (from ipykernel>=4.5.1->ipywidgets<9,>=7.6.0->ipympl->pondworld==0.0.38) (6.3.2)\n",
            "Requirement already satisfied: parso<0.9.0,>=0.8.3 in /usr/local/lib/python3.10/dist-packages (from jedi>=0.16->ipython<9->ipympl->pondworld==0.0.38) (0.8.3)\n",
            "Requirement already satisfied: ptyprocess>=0.5 in /usr/local/lib/python3.10/dist-packages (from pexpect>4.3->ipython<9->ipympl->pondworld==0.0.38) (0.7.0)\n",
            "Requirement already satisfied: wcwidth in /usr/local/lib/python3.10/dist-packages (from prompt-toolkit!=3.0.0,!=3.0.1,<3.1.0,>=2.0.0->ipython<9->ipympl->pondworld==0.0.38) (0.2.8)\n",
            "Requirement already satisfied: six>=1.5 in /usr/local/lib/python3.10/dist-packages (from python-dateutil>=2.7->matplotlib>=3.0->minigrid==2.1.1->pondworld==0.0.38) (1.16.0)\n",
            "Requirement already satisfied: notebook>=4.4.1 in /usr/local/lib/python3.10/dist-packages (from widgetsnbextension~=3.6.0->ipywidgets<9,>=7.6.0->ipympl->pondworld==0.0.38) (6.5.5)\n",
            "Requirement already satisfied: jinja2 in /usr/local/lib/python3.10/dist-packages (from notebook>=4.4.1->widgetsnbextension~=3.6.0->ipywidgets<9,>=7.6.0->ipympl->pondworld==0.0.38) (3.1.2)\n",
            "Requirement already satisfied: pyzmq<25,>=17 in /usr/local/lib/python3.10/dist-packages (from notebook>=4.4.1->widgetsnbextension~=3.6.0->ipywidgets<9,>=7.6.0->ipympl->pondworld==0.0.38) (23.2.1)\n",
            "Requirement already satisfied: argon2-cffi in /usr/local/lib/python3.10/dist-packages (from notebook>=4.4.1->widgetsnbextension~=3.6.0->ipywidgets<9,>=7.6.0->ipympl->pondworld==0.0.38) (23.1.0)\n",
            "Requirement already satisfied: jupyter-core>=4.6.1 in /usr/local/lib/python3.10/dist-packages (from notebook>=4.4.1->widgetsnbextension~=3.6.0->ipywidgets<9,>=7.6.0->ipympl->pondworld==0.0.38) (5.4.0)\n",
            "Requirement already satisfied: nbformat in /usr/local/lib/python3.10/dist-packages (from notebook>=4.4.1->widgetsnbextension~=3.6.0->ipywidgets<9,>=7.6.0->ipympl->pondworld==0.0.38) (5.9.2)\n",
            "Requirement already satisfied: nbconvert>=5 in /usr/local/lib/python3.10/dist-packages (from notebook>=4.4.1->widgetsnbextension~=3.6.0->ipywidgets<9,>=7.6.0->ipympl->pondworld==0.0.38) (6.5.4)\n",
            "Requirement already satisfied: nest-asyncio>=1.5 in /usr/local/lib/python3.10/dist-packages (from notebook>=4.4.1->widgetsnbextension~=3.6.0->ipywidgets<9,>=7.6.0->ipympl->pondworld==0.0.38) (1.5.8)\n",
            "Requirement already satisfied: Send2Trash>=1.8.0 in /usr/local/lib/python3.10/dist-packages (from notebook>=4.4.1->widgetsnbextension~=3.6.0->ipywidgets<9,>=7.6.0->ipympl->pondworld==0.0.38) (1.8.2)\n",
            "Requirement already satisfied: terminado>=0.8.3 in /usr/local/lib/python3.10/dist-packages (from notebook>=4.4.1->widgetsnbextension~=3.6.0->ipywidgets<9,>=7.6.0->ipympl->pondworld==0.0.38) (0.17.1)\n",
            "Requirement already satisfied: prometheus-client in /usr/local/lib/python3.10/dist-packages (from notebook>=4.4.1->widgetsnbextension~=3.6.0->ipywidgets<9,>=7.6.0->ipympl->pondworld==0.0.38) (0.17.1)\n",
            "Requirement already satisfied: nbclassic>=0.4.7 in /usr/local/lib/python3.10/dist-packages (from notebook>=4.4.1->widgetsnbextension~=3.6.0->ipywidgets<9,>=7.6.0->ipympl->pondworld==0.0.38) (1.0.0)\n",
            "Requirement already satisfied: platformdirs>=2.5 in /usr/local/lib/python3.10/dist-packages (from jupyter-core>=4.6.1->notebook>=4.4.1->widgetsnbextension~=3.6.0->ipywidgets<9,>=7.6.0->ipympl->pondworld==0.0.38) (3.11.0)\n",
            "Requirement already satisfied: jupyter-server>=1.8 in /usr/local/lib/python3.10/dist-packages (from nbclassic>=0.4.7->notebook>=4.4.1->widgetsnbextension~=3.6.0->ipywidgets<9,>=7.6.0->ipympl->pondworld==0.0.38) (1.24.0)\n",
            "Requirement already satisfied: notebook-shim>=0.2.3 in /usr/local/lib/python3.10/dist-packages (from nbclassic>=0.4.7->notebook>=4.4.1->widgetsnbextension~=3.6.0->ipywidgets<9,>=7.6.0->ipympl->pondworld==0.0.38) (0.2.3)\n",
            "Requirement already satisfied: lxml in /usr/local/lib/python3.10/dist-packages (from nbconvert>=5->notebook>=4.4.1->widgetsnbextension~=3.6.0->ipywidgets<9,>=7.6.0->ipympl->pondworld==0.0.38) (4.9.3)\n",
            "Requirement already satisfied: beautifulsoup4 in /usr/local/lib/python3.10/dist-packages (from nbconvert>=5->notebook>=4.4.1->widgetsnbextension~=3.6.0->ipywidgets<9,>=7.6.0->ipympl->pondworld==0.0.38) (4.11.2)\n",
            "Requirement already satisfied: bleach in /usr/local/lib/python3.10/dist-packages (from nbconvert>=5->notebook>=4.4.1->widgetsnbextension~=3.6.0->ipywidgets<9,>=7.6.0->ipympl->pondworld==0.0.38) (6.1.0)\n",
            "Requirement already satisfied: entrypoints>=0.2.2 in /usr/local/lib/python3.10/dist-packages (from nbconvert>=5->notebook>=4.4.1->widgetsnbextension~=3.6.0->ipywidgets<9,>=7.6.0->ipympl->pondworld==0.0.38) (0.4)\n",
            "Requirement already satisfied: jupyterlab-pygments in /usr/local/lib/python3.10/dist-packages (from nbconvert>=5->notebook>=4.4.1->widgetsnbextension~=3.6.0->ipywidgets<9,>=7.6.0->ipympl->pondworld==0.0.38) (0.2.2)\n",
            "Requirement already satisfied: MarkupSafe>=2.0 in /usr/local/lib/python3.10/dist-packages (from nbconvert>=5->notebook>=4.4.1->widgetsnbextension~=3.6.0->ipywidgets<9,>=7.6.0->ipympl->pondworld==0.0.38) (2.1.3)\n",
            "Requirement already satisfied: mistune<2,>=0.8.1 in /usr/local/lib/python3.10/dist-packages (from nbconvert>=5->notebook>=4.4.1->widgetsnbextension~=3.6.0->ipywidgets<9,>=7.6.0->ipympl->pondworld==0.0.38) (0.8.4)\n",
            "Requirement already satisfied: nbclient>=0.5.0 in /usr/local/lib/python3.10/dist-packages (from nbconvert>=5->notebook>=4.4.1->widgetsnbextension~=3.6.0->ipywidgets<9,>=7.6.0->ipympl->pondworld==0.0.38) (0.8.0)\n",
            "Requirement already satisfied: pandocfilters>=1.4.1 in /usr/local/lib/python3.10/dist-packages (from nbconvert>=5->notebook>=4.4.1->widgetsnbextension~=3.6.0->ipywidgets<9,>=7.6.0->ipympl->pondworld==0.0.38) (1.5.0)\n",
            "Requirement already satisfied: fastjsonschema in /usr/local/lib/python3.10/dist-packages (from nbformat->notebook>=4.4.1->widgetsnbextension~=3.6.0->ipywidgets<9,>=7.6.0->ipympl->pondworld==0.0.38) (2.18.1)\n",
            "Requirement already satisfied: jsonschema>=2.6 in /usr/local/lib/python3.10/dist-packages (from nbformat->notebook>=4.4.1->widgetsnbextension~=3.6.0->ipywidgets<9,>=7.6.0->ipympl->pondworld==0.0.38) (4.19.1)\n",
            "Requirement already satisfied: argon2-cffi-bindings in /usr/local/lib/python3.10/dist-packages (from argon2-cffi->notebook>=4.4.1->widgetsnbextension~=3.6.0->ipywidgets<9,>=7.6.0->ipympl->pondworld==0.0.38) (21.2.0)\n",
            "Requirement already satisfied: attrs>=22.2.0 in /usr/local/lib/python3.10/dist-packages (from jsonschema>=2.6->nbformat->notebook>=4.4.1->widgetsnbextension~=3.6.0->ipywidgets<9,>=7.6.0->ipympl->pondworld==0.0.38) (23.1.0)\n",
            "Requirement already satisfied: jsonschema-specifications>=2023.03.6 in /usr/local/lib/python3.10/dist-packages (from jsonschema>=2.6->nbformat->notebook>=4.4.1->widgetsnbextension~=3.6.0->ipywidgets<9,>=7.6.0->ipympl->pondworld==0.0.38) (2023.7.1)\n",
            "Requirement already satisfied: referencing>=0.28.4 in /usr/local/lib/python3.10/dist-packages (from jsonschema>=2.6->nbformat->notebook>=4.4.1->widgetsnbextension~=3.6.0->ipywidgets<9,>=7.6.0->ipympl->pondworld==0.0.38) (0.30.2)\n",
            "Requirement already satisfied: rpds-py>=0.7.1 in /usr/local/lib/python3.10/dist-packages (from jsonschema>=2.6->nbformat->notebook>=4.4.1->widgetsnbextension~=3.6.0->ipywidgets<9,>=7.6.0->ipympl->pondworld==0.0.38) (0.10.6)\n",
            "Requirement already satisfied: anyio<4,>=3.1.0 in /usr/local/lib/python3.10/dist-packages (from jupyter-server>=1.8->nbclassic>=0.4.7->notebook>=4.4.1->widgetsnbextension~=3.6.0->ipywidgets<9,>=7.6.0->ipympl->pondworld==0.0.38) (3.7.1)\n",
            "Requirement already satisfied: websocket-client in /usr/local/lib/python3.10/dist-packages (from jupyter-server>=1.8->nbclassic>=0.4.7->notebook>=4.4.1->widgetsnbextension~=3.6.0->ipywidgets<9,>=7.6.0->ipympl->pondworld==0.0.38) (1.6.4)\n",
            "Requirement already satisfied: soupsieve>1.2 in /usr/local/lib/python3.10/dist-packages (from beautifulsoup4->nbconvert>=5->notebook>=4.4.1->widgetsnbextension~=3.6.0->ipywidgets<9,>=7.6.0->ipympl->pondworld==0.0.38) (2.5)\n",
            "Requirement already satisfied: idna>=2.8 in /usr/local/lib/python3.10/dist-packages (from anyio<4,>=3.1.0->jupyter-server>=1.8->nbclassic>=0.4.7->notebook>=4.4.1->widgetsnbextension~=3.6.0->ipywidgets<9,>=7.6.0->ipympl->pondworld==0.0.38) (3.4)\n",
            "Requirement already satisfied: sniffio>=1.1 in /usr/local/lib/python3.10/dist-packages (from anyio<4,>=3.1.0->jupyter-server>=1.8->nbclassic>=0.4.7->notebook>=4.4.1->widgetsnbextension~=3.6.0->ipywidgets<9,>=7.6.0->ipympl->pondworld==0.0.38) (1.3.0)\n",
            "Requirement already satisfied: exceptiongroup in /usr/local/lib/python3.10/dist-packages (from anyio<4,>=3.1.0->jupyter-server>=1.8->nbclassic>=0.4.7->notebook>=4.4.1->widgetsnbextension~=3.6.0->ipywidgets<9,>=7.6.0->ipympl->pondworld==0.0.38) (1.1.3)\n",
            "Building wheels for collected packages: python_actr, pondworld\n",
            "  Building wheel for python_actr (setup.py) ... \u001b[?25l\u001b[?25hdone\n",
            "  Created wheel for python_actr: filename=python_actr-1.9.2-py3-none-any.whl size=30911 sha256=849f8c7b1e176cc61bd6ce34d7536390f3c96bf07607627cd3ba84ef8cee403f\n",
            "  Stored in directory: /root/.cache/pip/wheels/2b/c2/c0/e88f93d8a8b9a05de27e7d961f8a22dc85ca86a45b3ae039c9\n",
            "  Building wheel for pondworld (setup.py) ... \u001b[?25l\u001b[?25hdone\n",
            "  Created wheel for pondworld: filename=pondworld-0.0.38-py3-none-any.whl size=24135 sha256=9faf0553e1c6132b0c3e7dabefeb8d9c992d3123fc1e3bb6cbc26549c4ab0d59\n",
            "  Stored in directory: /tmp/pip-ephem-wheel-cache-_nnxa_rb/wheels/55/9b/fa/96e11bd48f313875f26950a75f9bf1c942647028c798d8b3ff\n",
            "Successfully built python_actr pondworld\n",
            "Installing collected packages: tk, python_actr, farama-notifications, jedi, gymnasium, cssselect2, cairocffi, minigrid, cairosvg, ipympl, pondworld\n",
            "Successfully installed cairocffi-1.6.1 cairosvg-2.7.1 cssselect2-0.7.0 farama-notifications-0.0.4 gymnasium-0.29.1 ipympl-0.9.3 jedi-0.19.1 minigrid-2.1.1 pondworld-0.0.38 python_actr-1.9.2 tk-0.1.0\n"
          ]
        }
      ]
    },
    {
      "cell_type": "code",
      "source": [],
      "metadata": {
        "id": "xMPd4j8MyxBc"
      },
      "execution_count": null,
      "outputs": []
    },
    {
      "cell_type": "code",
      "source": [],
      "metadata": {
        "id": "Bub85B8CvzG0"
      },
      "execution_count": null,
      "outputs": []
    },
    {
      "cell_type": "markdown",
      "source": [],
      "metadata": {
        "id": "UsA8C4fGvzYh"
      }
    },
    {
      "cell_type": "code",
      "execution_count": null,
      "metadata": {
        "colab": {
          "base_uri": "https://localhost:8080/"
        },
        "id": "fAdBY95TRCY1",
        "outputId": "11795ed2-7c29-4a22-97d2-f174fad01b61"
      },
      "outputs": [
        {
          "output_type": "stream",
          "name": "stdout",
          "text": [
            "Looking in indexes: https://pypi.org/simple, https://us-python.pkg.dev/colab-wheels/public/simple/\n",
            "Collecting git+https://github.com/eilene-ftf/pondworld.git\n",
            "  Cloning https://github.com/eilene-ftf/pondworld.git to /tmp/pip-req-build-527ib3l9\n",
            "  Running command git clone --filter=blob:none --quiet https://github.com/eilene-ftf/pondworld.git /tmp/pip-req-build-527ib3l9\n",
            "  Resolved https://github.com/eilene-ftf/pondworld.git to commit 660c9ca8d24a36ce7cea3737103bb1ea81630156\n",
            "  Preparing metadata (setup.py) ... \u001b[?25l\u001b[?25hdone\n",
            "Requirement already satisfied: python_actr in /usr/local/lib/python3.8/dist-packages (1.9.2)\n",
            "Requirement already satisfied: gymnasium in /usr/local/lib/python3.8/dist-packages (from pondworld==0.0.35) (0.27.1)\n",
            "Requirement already satisfied: numpy in /usr/local/lib/python3.8/dist-packages (from pondworld==0.0.35) (1.21.6)\n",
            "Requirement already satisfied: cairosvg in /usr/local/lib/python3.8/dist-packages (from pondworld==0.0.35) (2.6.0)\n",
            "Requirement already satisfied: opencv-python in /usr/local/lib/python3.8/dist-packages (from pondworld==0.0.35) (4.6.0.66)\n",
            "Requirement already satisfied: minigrid in /usr/local/lib/python3.8/dist-packages (from pondworld==0.0.35) (2.1.0)\n",
            "Requirement already satisfied: tk in /usr/local/lib/python3.8/dist-packages (from pondworld==0.0.35) (0.1.0)\n",
            "Requirement already satisfied: ipympl in /usr/local/lib/python3.8/dist-packages (from pondworld==0.0.35) (0.9.2)\n",
            "Requirement already satisfied: cairocffi in /usr/local/lib/python3.8/dist-packages (from cairosvg->pondworld==0.0.35) (1.4.0)\n",
            "Requirement already satisfied: defusedxml in /usr/local/lib/python3.8/dist-packages (from cairosvg->pondworld==0.0.35) (0.7.1)\n",
            "Requirement already satisfied: cssselect2 in /usr/local/lib/python3.8/dist-packages (from cairosvg->pondworld==0.0.35) (0.7.0)\n",
            "Requirement already satisfied: tinycss2 in /usr/local/lib/python3.8/dist-packages (from cairosvg->pondworld==0.0.35) (1.2.1)\n",
            "Requirement already satisfied: pillow in /usr/local/lib/python3.8/dist-packages (from cairosvg->pondworld==0.0.35) (7.1.2)\n",
            "Requirement already satisfied: gymnasium-notices>=0.0.1 in /usr/local/lib/python3.8/dist-packages (from gymnasium->pondworld==0.0.35) (0.0.1)\n",
            "Requirement already satisfied: typing-extensions>=4.3.0 in /usr/local/lib/python3.8/dist-packages (from gymnasium->pondworld==0.0.35) (4.4.0)\n",
            "Requirement already satisfied: cloudpickle>=1.2.0 in /usr/local/lib/python3.8/dist-packages (from gymnasium->pondworld==0.0.35) (2.2.1)\n",
            "Requirement already satisfied: jax-jumpy>=0.2.0 in /usr/local/lib/python3.8/dist-packages (from gymnasium->pondworld==0.0.35) (0.2.0)\n",
            "Requirement already satisfied: importlib-metadata>=4.8.0 in /usr/local/lib/python3.8/dist-packages (from gymnasium->pondworld==0.0.35) (6.0.0)\n",
            "Requirement already satisfied: ipython<9 in /usr/local/lib/python3.8/dist-packages (from ipympl->pondworld==0.0.35) (7.9.0)\n",
            "Requirement already satisfied: ipywidgets<9,>=7.6.0 in /usr/local/lib/python3.8/dist-packages (from ipympl->pondworld==0.0.35) (7.7.1)\n",
            "Requirement already satisfied: ipython-genutils in /usr/local/lib/python3.8/dist-packages (from ipympl->pondworld==0.0.35) (0.2.0)\n",
            "Requirement already satisfied: matplotlib<4,>=3.4.0 in /usr/local/lib/python3.8/dist-packages (from ipympl->pondworld==0.0.35) (3.7.0)\n",
            "Requirement already satisfied: traitlets<6 in /usr/local/lib/python3.8/dist-packages (from ipympl->pondworld==0.0.35) (5.7.1)\n",
            "Requirement already satisfied: zipp>=0.5 in /usr/local/lib/python3.8/dist-packages (from importlib-metadata>=4.8.0->gymnasium->pondworld==0.0.35) (3.12.1)\n",
            "Requirement already satisfied: setuptools>=18.5 in /usr/local/lib/python3.8/dist-packages (from ipython<9->ipympl->pondworld==0.0.35) (57.4.0)\n",
            "Requirement already satisfied: jedi>=0.10 in /usr/local/lib/python3.8/dist-packages (from ipython<9->ipympl->pondworld==0.0.35) (0.18.2)\n",
            "Requirement already satisfied: pygments in /usr/local/lib/python3.8/dist-packages (from ipython<9->ipympl->pondworld==0.0.35) (2.6.1)\n",
            "Requirement already satisfied: pexpect in /usr/local/lib/python3.8/dist-packages (from ipython<9->ipympl->pondworld==0.0.35) (4.8.0)\n",
            "Requirement already satisfied: backcall in /usr/local/lib/python3.8/dist-packages (from ipython<9->ipympl->pondworld==0.0.35) (0.2.0)\n",
            "Requirement already satisfied: pickleshare in /usr/local/lib/python3.8/dist-packages (from ipython<9->ipympl->pondworld==0.0.35) (0.7.5)\n",
            "Requirement already satisfied: decorator in /usr/local/lib/python3.8/dist-packages (from ipython<9->ipympl->pondworld==0.0.35) (4.4.2)\n",
            "Requirement already satisfied: prompt-toolkit<2.1.0,>=2.0.0 in /usr/local/lib/python3.8/dist-packages (from ipython<9->ipympl->pondworld==0.0.35) (2.0.10)\n",
            "Requirement already satisfied: ipykernel>=4.5.1 in /usr/local/lib/python3.8/dist-packages (from ipywidgets<9,>=7.6.0->ipympl->pondworld==0.0.35) (5.3.4)\n",
            "Requirement already satisfied: jupyterlab-widgets>=1.0.0 in /usr/local/lib/python3.8/dist-packages (from ipywidgets<9,>=7.6.0->ipympl->pondworld==0.0.35) (3.0.5)\n",
            "Requirement already satisfied: widgetsnbextension~=3.6.0 in /usr/local/lib/python3.8/dist-packages (from ipywidgets<9,>=7.6.0->ipympl->pondworld==0.0.35) (3.6.1)\n",
            "Requirement already satisfied: cycler>=0.10 in /usr/local/lib/python3.8/dist-packages (from matplotlib<4,>=3.4.0->ipympl->pondworld==0.0.35) (0.11.0)\n",
            "Requirement already satisfied: importlib-resources>=3.2.0 in /usr/local/lib/python3.8/dist-packages (from matplotlib<4,>=3.4.0->ipympl->pondworld==0.0.35) (5.10.2)\n",
            "Requirement already satisfied: kiwisolver>=1.0.1 in /usr/local/lib/python3.8/dist-packages (from matplotlib<4,>=3.4.0->ipympl->pondworld==0.0.35) (1.4.4)\n",
            "Requirement already satisfied: packaging>=20.0 in /usr/local/lib/python3.8/dist-packages (from matplotlib<4,>=3.4.0->ipympl->pondworld==0.0.35) (23.0)\n",
            "Requirement already satisfied: pyparsing>=2.3.1 in /usr/local/lib/python3.8/dist-packages (from matplotlib<4,>=3.4.0->ipympl->pondworld==0.0.35) (3.0.9)\n",
            "Requirement already satisfied: fonttools>=4.22.0 in /usr/local/lib/python3.8/dist-packages (from matplotlib<4,>=3.4.0->ipympl->pondworld==0.0.35) (4.38.0)\n",
            "Requirement already satisfied: python-dateutil>=2.7 in /usr/local/lib/python3.8/dist-packages (from matplotlib<4,>=3.4.0->ipympl->pondworld==0.0.35) (2.8.2)\n",
            "Requirement already satisfied: contourpy>=1.0.1 in /usr/local/lib/python3.8/dist-packages (from matplotlib<4,>=3.4.0->ipympl->pondworld==0.0.35) (1.0.7)\n",
            "Requirement already satisfied: cffi>=1.1.0 in /usr/local/lib/python3.8/dist-packages (from cairocffi->cairosvg->pondworld==0.0.35) (1.15.1)\n",
            "Requirement already satisfied: webencodings in /usr/local/lib/python3.8/dist-packages (from cssselect2->cairosvg->pondworld==0.0.35) (0.5.1)\n",
            "Requirement already satisfied: pycparser in /usr/local/lib/python3.8/dist-packages (from cffi>=1.1.0->cairocffi->cairosvg->pondworld==0.0.35) (2.21)\n",
            "Requirement already satisfied: tornado>=4.2 in /usr/local/lib/python3.8/dist-packages (from ipykernel>=4.5.1->ipywidgets<9,>=7.6.0->ipympl->pondworld==0.0.35) (6.0.4)\n",
            "Requirement already satisfied: jupyter-client in /usr/local/lib/python3.8/dist-packages (from ipykernel>=4.5.1->ipywidgets<9,>=7.6.0->ipympl->pondworld==0.0.35) (6.1.12)\n",
            "Requirement already satisfied: parso<0.9.0,>=0.8.0 in /usr/local/lib/python3.8/dist-packages (from jedi>=0.10->ipython<9->ipympl->pondworld==0.0.35) (0.8.3)\n",
            "Requirement already satisfied: wcwidth in /usr/local/lib/python3.8/dist-packages (from prompt-toolkit<2.1.0,>=2.0.0->ipython<9->ipympl->pondworld==0.0.35) (0.2.6)\n",
            "Requirement already satisfied: six>=1.9.0 in /usr/local/lib/python3.8/dist-packages (from prompt-toolkit<2.1.0,>=2.0.0->ipython<9->ipympl->pondworld==0.0.35) (1.15.0)\n",
            "Requirement already satisfied: notebook>=4.4.1 in /usr/local/lib/python3.8/dist-packages (from widgetsnbextension~=3.6.0->ipywidgets<9,>=7.6.0->ipympl->pondworld==0.0.35) (5.7.16)\n",
            "Requirement already satisfied: ptyprocess>=0.5 in /usr/local/lib/python3.8/dist-packages (from pexpect->ipython<9->ipympl->pondworld==0.0.35) (0.7.0)\n",
            "Requirement already satisfied: jinja2<=3.0.0 in /usr/local/lib/python3.8/dist-packages (from notebook>=4.4.1->widgetsnbextension~=3.6.0->ipywidgets<9,>=7.6.0->ipympl->pondworld==0.0.35) (2.11.3)\n",
            "Requirement already satisfied: prometheus-client in /usr/local/lib/python3.8/dist-packages (from notebook>=4.4.1->widgetsnbextension~=3.6.0->ipywidgets<9,>=7.6.0->ipympl->pondworld==0.0.35) (0.16.0)\n",
            "Requirement already satisfied: Send2Trash in /usr/local/lib/python3.8/dist-packages (from notebook>=4.4.1->widgetsnbextension~=3.6.0->ipywidgets<9,>=7.6.0->ipympl->pondworld==0.0.35) (1.8.0)\n",
            "Requirement already satisfied: nbconvert<6.0 in /usr/local/lib/python3.8/dist-packages (from notebook>=4.4.1->widgetsnbextension~=3.6.0->ipywidgets<9,>=7.6.0->ipympl->pondworld==0.0.35) (5.6.1)\n",
            "Requirement already satisfied: terminado>=0.8.1 in /usr/local/lib/python3.8/dist-packages (from notebook>=4.4.1->widgetsnbextension~=3.6.0->ipywidgets<9,>=7.6.0->ipympl->pondworld==0.0.35) (0.13.3)\n",
            "Requirement already satisfied: pyzmq>=17 in /usr/local/lib/python3.8/dist-packages (from notebook>=4.4.1->widgetsnbextension~=3.6.0->ipywidgets<9,>=7.6.0->ipympl->pondworld==0.0.35) (23.2.1)\n",
            "Requirement already satisfied: nbformat in /usr/local/lib/python3.8/dist-packages (from notebook>=4.4.1->widgetsnbextension~=3.6.0->ipywidgets<9,>=7.6.0->ipympl->pondworld==0.0.35) (5.7.3)\n",
            "Requirement already satisfied: jupyter-core>=4.4.0 in /usr/local/lib/python3.8/dist-packages (from notebook>=4.4.1->widgetsnbextension~=3.6.0->ipywidgets<9,>=7.6.0->ipympl->pondworld==0.0.35) (5.2.0)\n",
            "Requirement already satisfied: MarkupSafe>=0.23 in /usr/local/lib/python3.8/dist-packages (from jinja2<=3.0.0->notebook>=4.4.1->widgetsnbextension~=3.6.0->ipywidgets<9,>=7.6.0->ipympl->pondworld==0.0.35) (2.0.1)\n",
            "Requirement already satisfied: platformdirs>=2.5 in /usr/local/lib/python3.8/dist-packages (from jupyter-core>=4.4.0->notebook>=4.4.1->widgetsnbextension~=3.6.0->ipywidgets<9,>=7.6.0->ipympl->pondworld==0.0.35) (3.0.0)\n",
            "Requirement already satisfied: entrypoints>=0.2.2 in /usr/local/lib/python3.8/dist-packages (from nbconvert<6.0->notebook>=4.4.1->widgetsnbextension~=3.6.0->ipywidgets<9,>=7.6.0->ipympl->pondworld==0.0.35) (0.4)\n",
            "Requirement already satisfied: mistune<2,>=0.8.1 in /usr/local/lib/python3.8/dist-packages (from nbconvert<6.0->notebook>=4.4.1->widgetsnbextension~=3.6.0->ipywidgets<9,>=7.6.0->ipympl->pondworld==0.0.35) (0.8.4)\n",
            "Requirement already satisfied: bleach in /usr/local/lib/python3.8/dist-packages (from nbconvert<6.0->notebook>=4.4.1->widgetsnbextension~=3.6.0->ipywidgets<9,>=7.6.0->ipympl->pondworld==0.0.35) (6.0.0)\n",
            "Requirement already satisfied: pandocfilters>=1.4.1 in /usr/local/lib/python3.8/dist-packages (from nbconvert<6.0->notebook>=4.4.1->widgetsnbextension~=3.6.0->ipywidgets<9,>=7.6.0->ipympl->pondworld==0.0.35) (1.5.0)\n",
            "Requirement already satisfied: testpath in /usr/local/lib/python3.8/dist-packages (from nbconvert<6.0->notebook>=4.4.1->widgetsnbextension~=3.6.0->ipywidgets<9,>=7.6.0->ipympl->pondworld==0.0.35) (0.6.0)\n",
            "Requirement already satisfied: fastjsonschema in /usr/local/lib/python3.8/dist-packages (from nbformat->notebook>=4.4.1->widgetsnbextension~=3.6.0->ipywidgets<9,>=7.6.0->ipympl->pondworld==0.0.35) (2.16.2)\n",
            "Requirement already satisfied: jsonschema>=2.6 in /usr/local/lib/python3.8/dist-packages (from nbformat->notebook>=4.4.1->widgetsnbextension~=3.6.0->ipywidgets<9,>=7.6.0->ipympl->pondworld==0.0.35) (4.3.3)\n",
            "Requirement already satisfied: pyrsistent!=0.17.0,!=0.17.1,!=0.17.2,>=0.14.0 in /usr/local/lib/python3.8/dist-packages (from jsonschema>=2.6->nbformat->notebook>=4.4.1->widgetsnbextension~=3.6.0->ipywidgets<9,>=7.6.0->ipympl->pondworld==0.0.35) (0.19.3)\n",
            "Requirement already satisfied: attrs>=17.4.0 in /usr/local/lib/python3.8/dist-packages (from jsonschema>=2.6->nbformat->notebook>=4.4.1->widgetsnbextension~=3.6.0->ipywidgets<9,>=7.6.0->ipympl->pondworld==0.0.35) (22.2.0)\n"
          ]
        }
      ],
      "source": [
        "%pip install python_actr git+https://github.com/eilene-ftf/pondworld.git"
      ]
    },
    {
      "cell_type": "markdown",
      "source": [
        "### Imported Libraries\n",
        "\n",
        "These are libraries that support our frog and its environment. The first two are `gymnasium`, a software library for creating simulated environments for AIs, and `minigrid`, a collection of environments using gymnasium.\n",
        "\n",
        "After that is `pondworld`, which uses `minigrid` environments to make the frog's world.\n",
        "\n",
        "`python_actr` is what you use to create the frog's mind, you use it to model how the frog behaves in its world. `python_actr` is a model all on its own, but it can also be a scaffold for other AI models.\n",
        "\n",
        "The final two libraries, `IPython` and `time`, are used to control the text output. `time` allows us to make the frog wait, while `IPython` allows us to refresh the output."
      ],
      "metadata": {
        "id": "WqDdhWrzSKOS"
      }
    },
    {
      "cell_type": "code",
      "source": [
        "import gymnasium as gym\n",
        "from minigrid.minigrid_env import MiniGridEnv\n",
        "\n",
        "import pondworld\n",
        "from pondworld import FrogControl, EnvState\n",
        "\n",
        "from python_actr import Model, ACTR, Buffer, Memory, log_everything\n",
        "\n",
        "from IPython.display import clear_output, Audio, display\n",
        "\n",
        "import time"
      ],
      "metadata": {
        "id": "lyiqse02SHf6"
      },
      "execution_count": null,
      "outputs": []
    },
    {
      "cell_type": "markdown",
      "source": [
        "### The Frog's Environment\n",
        "\n",
        "ACT-R models need ACT-R environments to live in, this frog lives in a pond. This very basic environment will have an interface for the frog to interact with its world placed in it.\n",
        "\n",
        "This time, we will place the `frog_body` and the `env` (the frog's world) in the environment, when we define it (though it doesn't really matter whether we add them now, or later as we were doing previously).\n",
        "\n",
        "This time we are using the `\"cellar\"` world, a tiny maze containing two keys and a locked door."
      ],
      "metadata": {
        "id": "GIXboC0zWNsD"
      }
    },
    {
      "cell_type": "code",
      "source": [
        "class Pond(Model):\n",
        "    # A function that allows the frog to refresh our view every time it looks around\n",
        "    def clear(self):\n",
        "        clear_output(wait=True)\n",
        "    # Sets up the frog's virtual world, this virtual world has a locked cellar\n",
        "    env = gym.make(\"cellar-v0\")\n",
        "    # Gives the frog a body in its world\n",
        "    frog_body = FrogControl(env, textmode=True, emojis=True)\n",
        "\n",
        "    # Initializes the frog's world\n",
        "    start_world = frog_body.start\n"
      ],
      "metadata": {
        "id": "OckPgw6EWLxb"
      },
      "execution_count": null,
      "outputs": []
    },
    {
      "cell_type": "markdown",
      "source": [
        "### The Ever-Important Frog\n",
        "\n",
        "Here, you've got a minimal frog. It knows how to look around, open doors, and stop when it has successfully opened the door to its cellar. You are going to define the rest of its behaviour. You'll need to have the frog move around and pick up a key and bring it back to the door to unlock it.\n",
        "\n",
        "Quite a lot has been added to this new frog. Instead of *one* working memory `Buffer`, it has *four*. Each one serves a specific purpose:\n",
        "\n",
        "  - The `vision` buffer works as before, but the frog can now see **walls** and **the colour of objects**.\n",
        "  - The `goal` buffer separates the frog's goals from what it's seeing. It stores whatever objective is the subject of the frog's attention currently.\n",
        "  - The `recall` buffer is connected to `memory`, which stores facts that the frog knows about the world. When you use `memory.request()`, whatever you request will become available in `recall` on the next cycle.\n",
        "\n",
        "There are also a few more possibilities. These new ones just tell the frog about the walls to its left, to its right, and ahead. It might be surrounded by walls or in a corner, and it needs to be able to understand that.\n",
        "\n",
        "The frog is set up to always start by going `\"left\"`. What should the frog do first?\n",
        "\n",
        "### How Memory Works\n",
        "\n",
        "We can think of memory like a bag of `chunk`s, and we retrieve them by pattern matching, just like with the conditions of our productions.\n",
        "\n",
        "We will need the following:\n",
        "\n",
        "- `memory.add(item)` puts `item` into memory so that it can be retrieved later\n",
        "- `memory.request(pattern)` retrieves an item that matches pattern, and places it in `recall`. Just like with production rules, if multiple chunks in memory match the pattern, one will be retrieved at random."
      ],
      "metadata": {
        "id": "-OawfjsjZKVo"
      }
    },
    {
      "cell_type": "code",
      "source": [
        "# create our frog's brain\n",
        "class FrogMind(ACTR):\n",
        "    # give our frog a buffer that holds information\n",
        "    # let's call this buffer \"vision\". it represents what the frog is seeing.\n",
        "    vision=Buffer()\n",
        "    goal=Buffer() # will store the frog's current goal\n",
        "    recall=Buffer() # stores what the frog is remembering, such as door colour\n",
        "\n",
        "    memory=Memory(recall)\n",
        "\n",
        "    # here we're going to set what the frog is seeing right at the moment\n",
        "    # initially we don't know what the frog is looking at\n",
        "    vision.set('unknown')\n",
        "    goal.set('key') # Sets the initial goal to go left and find a key\n",
        "    recall.set('nothing') # we're not remembering anything at first\n",
        "\n",
        "    # \"possibilities\" has been replaced with a set of slot names, corresponding\n",
        "    # to the three items the frog might track in its world, and a set of values,\n",
        "    # corresponding to what states those items might be in\n",
        "    slots = [\"fly\", \"key\", \"door\", \"wall\"]\n",
        "    values = [\"nowhere\",      # used when a wall or key or door in NOT in sight\n",
        "              \"here\",         # used when a wall or key or door is directly in front\n",
        "              \"ahead\",        # used when a key or door is visible ahead, never used for walls\n",
        "              \"right\",        # used when a wall or key or door is to the left\n",
        "              \"left\",         # used when a wall or key or door is to the right\n",
        "              \"held\",         # only used when the frog is holding the key\n",
        "              'right_corner', # used if there's a wall in front and to the left\n",
        "              'left_corner',  # used if there's a wall in front and to the right\n",
        "              'hall'] # only used if there's walls to the left AND right\n",
        "\n",
        "    # also, we're keeping track of all the things the frog can do\n",
        "    # you never know when you might need them\n",
        "    actions = [\"forward\", \"left\", \"right\", \"interact\", \"pickup\"]\n",
        "\n",
        "\n",
        "    ######\n",
        "    # THE BASICS\n",
        "\n",
        "    # look to see if there's any flies\n",
        "    def look(vision='unknown', goal='?objective'):\n",
        "        self.wait(0.6) # adds a rest between steps so we can see what's going on\n",
        "        self.parent.clear() # makes sure only the most recent output is shown\n",
        "        observation = self.parent.frog_body.look()  # now, when it looks,\n",
        "                                                    # the frog will get a\n",
        "                                                    # collection of several\n",
        "                                                    # items\n",
        "\n",
        "        # This creates a list of 'slot:value' pairs, using what's\n",
        "        # contained in observation\n",
        "        new_sight = []\n",
        "        for slot in slots:\n",
        "            val_index = observation[slot]   # gets a number indicating the state\n",
        "                                            # of the object called 'slot'\n",
        "            value = values[val_index]       # then looks it up\n",
        "            new_sight.append(f'{slot}:{value}') # and adds it to\n",
        "\n",
        "        # If there are any slots for door or key colour, add them to vision\n",
        "        for slot in slots:\n",
        "            col = f'{slot}_colour'\n",
        "            if col in observation:\n",
        "                new_sight.append(f'{col}:{observation[col]}')\n",
        "\n",
        "        updated = ' '.join(new_sight)  # make the contents of new_memory into a\n",
        "                                       # string ACT-R can understand\n",
        "        # Show it in the printout\n",
        "        print(f'the frog sees:\\n  {updated}')\n",
        "        print(\"the frog's goal:\", objective)\n",
        "        vision.set(updated)\n",
        "        # this is the end of the look production\n",
        "\n",
        "    def open_door(vision='key:held door:here'):\n",
        "        print(\"the frog opens the door.\")\n",
        "        self.parent.frog_body.move(\"interact\")\n",
        "        goal.set('done')\n",
        "\n",
        "    ######\n",
        "    # END STATE\n",
        "\n",
        "    # when all the flies are eaten, it's time to stop and rest\n",
        "    def end(goal='done'):\n",
        "        self.parent.clear()\n",
        "        self.parent.frog_body.look()\n",
        "        print(\"\"\"\n",
        "  .\"|__________________  _,_\n",
        "〈     To Be Continued ||\\\\|/\n",
        "  '.|~~~~~~~~~~~~~~~~~~ ~~\n",
        "  \"\"\")\n",
        "        display(\n",
        "            Audio(url='https://cdn.discordapp.com/attachments/965674740696092779/1072736721608921108/Studio_Project.mp3',\n",
        "                   autoplay=True,\n",
        "                   embed=True)\n",
        "        )\n",
        "        self.stop()"
      ],
      "metadata": {
        "id": "0qdk1NgmX5Hd"
      },
      "execution_count": null,
      "outputs": []
    },
    {
      "cell_type": "markdown",
      "source": [
        "### Runs The Frog"
      ],
      "metadata": {
        "id": "g2CqRsvHdqXI"
      }
    },
    {
      "cell_type": "code",
      "source": [
        "paradise_swamp = Pond() # Creates the environment for our frog\n",
        "\n",
        "kermit = FrogMind()     # Creates the frog's brain\n",
        "kermit.wait = time.sleep # A function for the frog to wait\n",
        "kermit.Audio = Audio\n",
        "kermit.display = display\n",
        "\n",
        "# Places our frog as the agent in the swamp\n",
        "paradise_swamp.agent = kermit  # put the frog's brain in the environment\n",
        "paradise_swamp.start_world()   # start up the world\n",
        "paradise_swamp.run()           # Annnnd action!"
      ],
      "metadata": {
        "id": "qEH7_uS1dnbb",
        "colab": {
          "base_uri": "https://localhost:8080/"
        },
        "outputId": "d0744122-c7be-4f9f-a304-4396e53dadc1"
      },
      "execution_count": null,
      "outputs": [
        {
          "output_type": "stream",
          "name": "stdout",
          "text": [
            "🧱🧱🧱🧱🧱🧱🧱🧱🧱🧱🧱🧱🧱🧱🧱🧱🧱🧱🧱🧱🧱🧱🧱🧱    \n",
            "🧱⬛⬛⬛⬛⬛⬛⬛⬛🧱⬛🪰🪰⬛🪰🧱⬛⬛⬛⬛⬛⬛⬛🧱    \n",
            "🧱⬛⬛⬛⬛⬛⬛⬛⬛🧱⬛⬛🪰⬛⬛🧱⬛⬛⬛⬛⬛⬛⬛🧱    \n",
            "🧱⬛⬛⬛⬛⬛⬛⬛⬛🧱⬛⬛🪰⬛⬛🧱⬛⬛⬛⬛⬛⬛⬛🧱    \n",
            "🧱⬛⬛⬛⬛⬛⬛⬛⬛🧱🪰⬛⬛⬛⬛🧱⬛⬛⬛⬛⬛⬛⬛🧱    \n",
            "🧱⬛⬛⬛⬛⬛⬛⬛⬛🧱⬛⬛⬛⬛⬛🧱⬛⬛⬛⬛⬛⬛⬛🧱    \n",
            "🧱⬛⬛⬛⬛⬛⬛⬛⬛🧱⬛⬛⬛⬛⬛🧱⬛⬛⬛⬛⬛⬛⬛🧱    \n",
            "🧱⬛⬛⬛⬛⬛⬛⬛⬛🧱🧱🧱🚪🧱🧱🧱⬛⬛⬛⬛⬛⬛⬛🧱    \n",
            "🧱⬛⬛⬛⬛⬛⬛⬛⬛⬛⬛🧱⬛🧱⬛⬛⬛⬛⬛⬛⬛⬛⬛🧱    \n",
            "🧱⬛⬛⬛⬛⬛⬛⬛⬛⬛⬛🧱⬛🧱⬛⬛⬛⬛⬛⬛⬛⬛⬛🧱    \n",
            "🧱⬛⬛⬛⬛⬛⬛⬛⬛⬛⬛🧱⬛🧱⬛⬛⬛⬛⬛⬛⬛⬛⬛🧱    \n",
            "🧱⬛⬛⬛⬛⬛⬛⬛⬛⬛⬛🧱⬛🧱⬛⬛⬛⬛⬛⬛⬛⬛⬛🧱    \n",
            "🧱⬛⬛⬛⬛⬛⬛⬛⬛⬛⬛🧱⬛🧱⬛⬛⬛⬛⬛⬛⬛⬛⬛🧱    \n",
            "🧱⬛⬛⬛⬛⬛⬛⬛⬛⬛⬛🧱⬛🧱⬛⬛⬛⬛⬛⬛⬛⬛⬛🧱    \n",
            "🧱⬛⬛⬛⬛⬛⬛⬛⬛⬛⬛🧱⬛🧱⬛⬛⬛⬛⬛⬛⬛⬛⬛🧱    \n",
            "🧱🧱🧱🧱🧱⬛⬛⬛⬛⬛⬛🧱⬛🧱⬛⬛⬛⬛⬛🧱🧱🧱🧱🧱    \n",
            "🧱⬛⬛🗝️🧱⬛⬛⬛⬛⬛⬛🧱⬛🧱⬛⬛⬛⬛⬛🧱🗝️⬛⬛🧱    live frog reaction:\n",
            "🧱⬛⬛⬛🧱⬛⬛⬛⬛⬛⬛🧱⬛🧱⬛⬛⬛⬛⬛🧱⬛⬛⬛🧱    ⬛🧱🟨🧱⬛⬛⬛\n",
            "🧱⬛🧱🧱🧱⬛⬛⬛⬛⬛⬛🧱🟨🧱⬛⬛⬛⬛⬛🧱🧱🧱⬛🧱    ⬛🧱🟨🧱⬛⬛⬛\n",
            "🧱⬛🧱⬛⬛⬛⬛⬛⬛⬛⬛🧱🟨🧱⬛⬛⬛⬛⬛⬛⬛🧱⬛🧱    ⬛🧱🟨🧱⬛⬛⬛\n",
            "🧱⬛🧱⬛⬛⬛⬛⬛⬛⬛⬛🧱🟨🧱⬛⬛⬛⬛⬛⬛⬛🧱⬛🧱    ⬛🧱🟨🧱⬛⬛⬛\n",
            "🧱⬛🧱🧱🧱🧱🧱🧱🧱🧱🧱🧱🐸🧱🧱🧱🧱🧱🧱🧱🧱🧱⬛🧱    ⬛🧱🟨🧱⬛⬛⬛\n",
            "🧱⬛⬛⬛⬛⬛⬛⬛⬛⬛⬛⬛🟨🟨🟨🟨🟨🟨🟨⬛⬛⬛⬛🧱    ⬛🧱🟨🧱🧱🧱🧱\n",
            "🧱🧱🧱🧱🧱🧱🧱🧱🧱🧱🧱🧱🧱🧱🧱🧱🧱🧱🧱🧱🧱🧱🧱🧱    ⬛🧱🟨🐸🟨🟨🟨\n",
            "eat all the flies\n",
            "frog compass: ➡️\n",
            "the frog sees:\n",
            "  fly:nowhere key:nowhere door:nowhere wall:here\n",
            "the frog's goal: key\n"
          ]
        },
        {
          "output_type": "stream",
          "name": "stderr",
          "text": [
            "/usr/local/lib/python3.10/dist-packages/gymnasium/core.py:311: UserWarning: \u001b[33mWARN: env.gen_obs_grid to get variables from other wrappers is deprecated and will be removed in v1.0, to get this variable you can do `env.unwrapped.gen_obs_grid` for environment variables or `env.get_wrapper_attr('gen_obs_grid')` that will search the reminding wrappers.\u001b[0m\n",
            "  logger.warn(\n",
            "/usr/local/lib/python3.10/dist-packages/gymnasium/core.py:311: UserWarning: \u001b[33mWARN: env.agent_dir to get variables from other wrappers is deprecated and will be removed in v1.0, to get this variable you can do `env.unwrapped.agent_dir` for environment variables or `env.get_wrapper_attr('agent_dir')` that will search the reminding wrappers.\u001b[0m\n",
            "  logger.warn(\n",
            "/usr/local/lib/python3.10/dist-packages/gymnasium/core.py:311: UserWarning: \u001b[33mWARN: env.grid to get variables from other wrappers is deprecated and will be removed in v1.0, to get this variable you can do `env.unwrapped.grid` for environment variables or `env.get_wrapper_attr('grid')` that will search the reminding wrappers.\u001b[0m\n",
            "  logger.warn(\n",
            "/usr/local/lib/python3.10/dist-packages/gymnasium/core.py:311: UserWarning: \u001b[33mWARN: env.agent_pos to get variables from other wrappers is deprecated and will be removed in v1.0, to get this variable you can do `env.unwrapped.agent_pos` for environment variables or `env.get_wrapper_attr('agent_pos')` that will search the reminding wrappers.\u001b[0m\n",
            "  logger.warn(\n",
            "/usr/local/lib/python3.10/dist-packages/gymnasium/core.py:311: UserWarning: \u001b[33mWARN: env.agent_view_size to get variables from other wrappers is deprecated and will be removed in v1.0, to get this variable you can do `env.unwrapped.agent_view_size` for environment variables or `env.get_wrapper_attr('agent_view_size')` that will search the reminding wrappers.\u001b[0m\n",
            "  logger.warn(\n",
            "/usr/local/lib/python3.10/dist-packages/gymnasium/core.py:311: UserWarning: \u001b[33mWARN: env.carrying to get variables from other wrappers is deprecated and will be removed in v1.0, to get this variable you can do `env.unwrapped.carrying` for environment variables or `env.get_wrapper_attr('carrying')` that will search the reminding wrappers.\u001b[0m\n",
            "  logger.warn(\n"
          ]
        }
      ]
    },
    {
      "cell_type": "markdown",
      "source": [
        "## Your Task\n",
        "\n",
        "Use your knowledge and work from Lab 3 to build up this frog. Your frog must complete four tasks, in order:\n",
        "\n",
        "1.   Navigate the maze\n",
        "2.   Check the colour of the door\n",
        "3.   Find the key that matches the colour of the door\n",
        "4.   Grab the key of the correct colour, bring it back to the door, and unlock the door.\n",
        "\n",
        "Productions for `look`-ing around and `open_door` for unlocking the door have been provided. But you'll need to make production rules for navigating the maze, memorizing the colour of the door, finding the correct key and picking it up, as well as what to do if you find the *wrong* key.\n",
        "\n",
        "\n",
        "\n",
        "---\n",
        "\n"
      ],
      "metadata": {
        "id": "3p53ObpudYhj"
      }
    },
    {
      "cell_type": "markdown",
      "source": [
        "### Task 1\n",
        "\n",
        "#### Navigating the maze\n",
        "\n",
        "Any maze can be solved using the **wall-following algorithm**. In any maze, pick either the left or right wall. Put your hand on that wall and never let your hand leave that wall. Keep walking forward, following the wall. Eventually, this will take you to the exit.\n",
        "\n",
        "Picking the right-hand wall is called the \"right-hand rule\" and picking the left-hand hall is called the \"left-hand rule\". For our frog, we could use either, but the left-hand rule will result in our frog having an easier time solving this problem due to the frog's starting location: the frog will move towards the door before it goes to look at either key.\n",
        "\n",
        "Below is a description of the wall following algorithm, stated in terms of what the frog needs to *do*, given what it *sees* in its immediate vicinity, using the `\"object:location\"` notation we're familiar with from the previous versions of the frog.\n",
        "\n",
        "\n",
        "Location of Walls | How the Frog Moves | Explanation\n",
        "--- | --- | ---\n",
        " `\"wall:nowhere\"` | turn `\"left\"` and then move `\"forward\"` | search for the left wall if you're not touching it\n",
        " `\"wall:here\"` | turn `\"left\"` and then move `\"forward\"` | search for the left wall if you're not touching it\n",
        " `\"wall:right\"` | turn `\"left\"` and then move `\"forward\"` | search for the left wall if you're not touching it\n",
        "  `\"wall:right_corner\"` | turn `\"left\"` and then move `\"forward\"` | search for the left wall if you're not touching it\n",
        " `\"wall:left\"` | move `\"forward\"` | follow the left wall forward\n",
        " `\"wall:hall\"` | move `\"forward\"` | follow the left wall forward\n",
        " `\"wall:left_corner\"` | turn `\"right\"` | follow the left wall around turns\n",
        "\n",
        "Note: `\"wall:ahead\"` is *not* used, don't worry about it.\n",
        "\n",
        "You can read more about the wall-following algorithm at [Wikipedia](https://en.wikipedia.org/wiki/Maze-solving_algorithm#Wall_follower) or this [blog post](https://andrewyong7338.medium.com/maze-escape-with-wall-following-algorithm-170c35b88e00).\n",
        "\n",
        "##### **Create productions to make the frog perform the left-hand rule wall following algorithm.**\n",
        "\n",
        "**Hint 1:** Use the movement production rules from the Lab 3 as templates for creating your production rules.\n",
        "\n",
        "**Hint 2:** You can both turn left and move forward in one production rule by sending two commands to the frog's body in one production. Like so:\n",
        "\n",
        "```python\n",
        "        self.parent.frog_body.move('left')   # we turn left\n",
        "        self.parent.frog_body.move('forward') # AND we hop forward\n",
        "```\n",
        "\n",
        "While this is easily achievable programmatically, ACT-R models typically only allow distinct actions to be represented by *distinct productions*, even if they occur in sequence. If you would like to try to do it that way, you may do so, although it is not required, since it complicates the exercise.\n",
        "\n",
        "**Hint 3:** Don't forget all production rules should end with:\n",
        "\n",
        "```python\n",
        "        vision.set('unknown') # after each time the frog acts, it needs to look again\n",
        "```\n",
        "\n",
        "This ensures the frog will always update its `vision` buffer, which tells it about the current state of its world, and what action it should take.\n",
        "\n",
        "**Hint 4:** Optionally, you can solve this with just 3 productions if you want to challege yourself. The trick is that you can write a production rule that matches to multiple wall states by using `\"!\"` which is the ACT-R symbol for \"not\", or logical negation. For example, if you wanted a production rule that fires whenever there is a wall to the frog's left, or a wall to both the frog's left and right (i.e., `\"hall\"`), we can specify that the production rule does **NOT** fire in every other situation:\n",
        "\n",
        "```python\n",
        "# only fires when wall:hall or wall:left\n",
        "def rule_name(vision=\"wall:!nowhere!here!right!right_corner!left_corner\"):\n",
        "```\n",
        "\n",
        "The new production, `rule_name`, will fire in the case that the wall is not `nowhere`, not `here`, not `right`, not `right_corner`, and not `left_corner`. So long as it is not any of those, `wall` may have any other value. Reviewing the possible values for the `wall` slot in the table above, we will note that the only values remaining are `left` and `hall`, and so it will fire in either case, and no others.\n",
        "\n",
        "**Run the model to check to see if your production rules are working correctly.** (If the frog walks down the hall and gets stuck on the door then you have it working as intended.)\n"
      ],
      "metadata": {
        "id": "5mcGhic_eCTK"
      }
    },
    {
      "cell_type": "code",
      "source": [
        "#Task 1 - Navigate the maze\n",
        "def turn_nowhere(vision = \"wall:nowhere\"):\n",
        "  self.parent.frog_body.move('nowhere') #Starting point\n",
        "  vision.set('unknown') #After each time the frog turns, we need it to look again\n",
        "\n",
        "def turn_left(vision = \"wall:here\"): #Frog is going to stick to the left side\n",
        "  self.parent.frog_body.move('left') #Frog needs to turn left\n",
        "  vision.set('unknown')\n",
        "\n",
        "def move_forward(vision = 'wall.left'): #Frog needs to move forward each time it turns\n",
        "  self.parent.frog_body.move('left')\n",
        "  vision.set('unknown')\n",
        "\n",
        "def turn_right(vision = 'wall:right'):\n",
        "  self.parent.frog_body.move('right')\n",
        "  vision.set('unknown')\n",
        "\n",
        "def turn_right_corner(vision = 'wall:right_corner'):\n",
        "  self.parent.frog_body.move('right')\n",
        "  vision.set('unknown')\n",
        "\n",
        "def turn_left_corner(vision = 'wall:left_corner'):\n",
        "  self.parent.frog_body.move('left')\n",
        "  vision.set('unknown')\n",
        "\n",
        "def turn_hall(vision = 'wall:hall'):\n",
        "  self.parent.frog_body.move('right')\n",
        "  vision.set('unknown')\n",
        "\n",
        "def rule_name(vision = 'wall:nowhere!here!right!right_corner!left_corner'):\n",
        "  if \"left\" in vision:\n",
        "    self.parent.frog_body.move('right')\n",
        "  else:\n",
        "    self.parent.frog_body.move('forward')\n",
        "  vision.set('unknown')\n"
      ],
      "metadata": {
        "id": "9gxZYsLY7gIL"
      },
      "execution_count": null,
      "outputs": []
    },
    {
      "cell_type": "markdown",
      "source": [
        "\n",
        "\n",
        "---\n",
        "\n",
        "### Task 2\n",
        "\n",
        "#### Check the colour of the door\n",
        "\n",
        "Here we want to do two things:\n",
        "\n",
        "1. We want the frog to memorize the colour of the door.\n",
        "2. We want the frog to not get stuck on the door.\n",
        "\n",
        "We can solve both of these problems with one production rule that fires as soon as the door is in sight. This production rule should add the colour of the door to long-term declarative memory and then turn the frog around 180˚ so it starts walking *away* from the door instead.\n",
        "\n",
        "Let's define a production rule that fires whenever the door is in sight *and* creates a variable that holds the colour of the door.\n",
        "\n",
        "The door can be `'left'`, `'right'`, `'ahead'`, `'here'`, or `'nowhere'`.\n",
        "\n",
        "Thus, we can create a production rule that fires whenever the door is in sight by specifying `\"door:!nowhere\"`, i.e., the door is not nowhere. We can also create a variable that holds the colour of the door by using `\"door_colour:?col\"` where `\"?col\"` creates a variable called `col` inside our production's condition that stores the door's colour whenever the production fires:\n",
        "\n",
        "```python\n",
        "def remember_door(vision=\"door:!nowhere door_colour:?col\"):\n",
        "```\n",
        "\n",
        "Now complete this production by doing the following:\n",
        "\n",
        "- use `memory.add(\"door_colour:?col\")` to add the colour of the door to long-term declarative `memory`\n",
        "  - this is **only** possible *inside a production that fires on a condition containing* `?col`, as in the production you are currently creating, and will place the *value of* `col` in the `door_colour` slot\n",
        "- turn the frog 180˚ so that it's pointing in the exact opposite direction\n",
        "- add a print statement describing what this production rule makes the frog do\n",
        "- set the vision buffer to `\"unknown\"`\n",
        "\n",
        "**Hint:** a `\"left\"` or `\"right\"` turn is a 90˚ turn.\n",
        "\n",
        "**Run the model to see if your new production rule is working.**\n",
        "\n",
        "(If you have the Task 1 and Task 2 production rules working correctly, the frog should approach the door, see the colour of the door, turn around, and find one of the keys. At this point, the frog should stop in front of one of the keys and get stuck, because the frog doesn't know what to do with a key yet.)"
      ],
      "metadata": {
        "id": "2zJCG_UYGulD"
      }
    },
    {
      "cell_type": "code",
      "source": [
        "def remember_door(vision = \"door:!nowhere door_colour:?col\"):\n",
        "  memory.add(\"door_colour:?col\" + col)\n",
        "  self.parent.frog_body.move('left')\n",
        "  self.parent.frog_body.move('right')\n",
        "  print(\"Frog sees the door, remembers the colour, and turns around\")\n",
        "  vision.set('unknown')\n",
        "  remember_door.set('unknown')\n"
      ],
      "metadata": {
        "id": "Qi3nfV1p8Z9K"
      },
      "execution_count": null,
      "outputs": []
    },
    {
      "cell_type": "markdown",
      "source": [
        "\n",
        "\n",
        "\n",
        "---\n",
        "\n",
        "\n",
        "### Task 3\n",
        "\n",
        "When our template frog model is created, it is given an ACT-R `Memory()` object called `memory`, which is associated with a buffer called `recall`, which has an initial value of `\"nothing\"`. We have added chunks to memory (information about the door) using `memory.add()`, and now we need to retrieve that information so that the frog can check it against the keys. In order to retrieve it, we use `memory.request()`, which matches the contents of `memory` just like production conditions match to the contents of buffers, except, instead of firing a production, it places the retrieved chunk into its associated buffer, `recall`.\n",
        "\n",
        "#### Find the key that matches the colour of the door\n",
        "\n",
        "To pull this off, you need to use `memory.request()`, to check if the key is the right colour by comparing it to the memories of the door stored in long-term declarative memory. Here is how you can do that:\n",
        "\n",
        "```python\n",
        "memory.request('door_colour:?col')\n",
        "```\n",
        "\n",
        "This will retrieve a chunk in memory containing a slot called `door_colour`, whatever that slot's value, and place it in the `recall` buffer.\n",
        "\n",
        "**You should design this production such that it fires *only* when the frog sees a key, *and* the** `recall` **buffer is currently empty.**\n",
        "\n",
        "#### The frog must pick up the right key\n",
        "\n",
        "We want to create a production that matches when the key is right in front of the frog and when the colour of the key agrees with the colour it remembers (as the key that matches the door colour is the key that unlocks the door). When the frog sees the right key, but is not directly in front of it, it should just continue following the wall until it reaches the key. There are three parts to this production: First, **we must test whether the colours agree and the key is in front of the frog**. Second, **the frog must pick up the key**. Third, **the frog must reset** `recall` **to its default value**, so as to avoid potential conflicts with other productions.\n",
        "\n",
        "**Hint 1**\n",
        "\n",
        "Once the frog recalls the colour of the door, it must compare that colour to the colour of the key it is looking at, and decide whether to pick up the key or leave it and go find the other one. More directly, the frog must check whether the value of `door_colour` in the `recall` buffer agrees with the value of `key_colour` in the `vision` buffer when the frog sees a key.\n",
        "\n",
        "There is an easy way to create productions that test this sort of agreement in ACT-R. When you define a production, you may use a variable, such as `?col`, in multiple places. The production will then **only match in the case that all uses of that variable have an equal value**.\n",
        "\n",
        "```python\n",
        "def grab_key(vision=\"key:here key_colour:?col\", recall='door_colour:?col'):\n",
        "```\n",
        "\n",
        "The above rule will only fire when the key is directly in front of the frog, since we don't want it to try to pick up the key, and when `key_colour` and `door_colour` have the same value.\n",
        "\n",
        "**Hint 2**\n",
        "\n",
        "Next, the frog should *pick up the key*. You've had the frog pick up keys in Lab 3, so if you don't remember how, go back to Lab 3 and check how it worked there.\n",
        "\n",
        "**Hint 3**\n",
        "\n",
        "Finally, the frog should *reset* `recall` to its default value. You have an example earlier in the template demonstrating how to set recall. It may be set just like any other buffer.\n",
        "\n",
        "#### The frog must change directions if it is not the right colour\n",
        "\n",
        "We also need to test if the frog is looking at the wrong key, and turn around immediately if that is the case. This requires a condition *similar* to the previous one, except: First, we do not want to wait until the key is directly in front of the frog, but rather make it turn 180˚ immediately, as soon as the key is recognized to be wrong. Second, the production should match when `key_colour` and `door_colour` are *not equal*.\n",
        "\n",
        "**Hint 1**\n",
        "\n",
        "There is also an easy way to accomplish this part in ACT-R. In this case, we write the condition exactly as before, but we add a `!` to note that the contents of one of the buffers is *not* whatever the variable `?col` captures.\n",
        "\n",
        "```python\n",
        "def wrong_key(vision=\"key_colour:?col\", recall='door_colour:!?col'):\n",
        "```\n",
        "\n",
        "**Hint 2**\n",
        "\n",
        "The above will match when `key_colour` has any value, so long as `door_colour` **does not have the same value**, marked by `!?col`. This production must cause the frog to *reset* `recall`, as before, and then *turn 180˚*.\n"
      ],
      "metadata": {
        "id": "VZhUM-jCgMkQ"
      }
    },
    {
      "cell_type": "code",
      "source": [
        "def remember_door_colour(vision = \"key:!nowhere\", recall = 'nothing'):\n",
        "  memory.request('door_colour:?col')\n",
        "  vision.set('unknown')\n",
        "\n",
        "def grab_key(vision = \"key:here key_colour:col?\", recall = \"door_colour:?col\"):\n",
        "  self.parent.frog_body.pick_up_key()\n",
        "  recall.set('nothing')\n",
        "  vision.set('unknown')\n",
        "\n",
        "def wrong_key(vision = \"key:here key_colour:?col\", recall = \"door_colour:!?col\"):\n",
        "  self.parent.frog_body.move('left')\n",
        "  self.parent.frog_body.move('right')\n",
        "  recall.set('nothing')\n",
        "  vision.set('unknown')\n"
      ],
      "metadata": {
        "id": "DgV7Qqss6zkB"
      },
      "execution_count": null,
      "outputs": []
    },
    {
      "cell_type": "markdown",
      "source": [],
      "metadata": {
        "id": "1UH52Dn-99sC"
      }
    },
    {
      "cell_type": "code",
      "source": [],
      "metadata": {
        "id": "owcoehAO6zvd"
      },
      "execution_count": null,
      "outputs": []
    },
    {
      "cell_type": "markdown",
      "source": [
        "\n",
        "\n",
        "---\n",
        "\n",
        "\n",
        "\n",
        "### Task 4\n",
        "\n",
        "Once the frog has grabbed the correct key, it will resume following the wall, and will eventually arrive back at the door. The final step is to make it open the door in the case that it is standing in front of the door and it has the correct key.\n",
        "\n",
        "There is already a production in the template that fires when the frog is at the door and is holding a key, so you **don't need to add any new rules**. However, the productions you currently have fire **whether or not the frog has the key**, so the frog will not always open the door.\n",
        "\n",
        "Your final task is to change the existing productions so that the frog always opens the door when it has the key. There are two ways you might go about this, and you can pick either one. (Or, experiment with both!)\n",
        "\n",
        "1. As in Lab 3, you can make the frog ignore the door **only when the frog is not holding a key**. This is a simple change to the production where it memorizes the door's colour.\n",
        "2. You can change the state of the `goal` buffer that was set up in the template when the frog picks up the key. This second approach is more orthodox for ACT-R. In this case, you should set the chunk in `goal`, as you would normally set a buffer, in `grab_key`, and then you should add a condition in the production where the frog memorizes the door, pertaining to what is in `goal`, such that the production can only fire when goal *does not* have the value you set in `grab_key`. You may also need to assign a default value to `goal` to make this work.\n",
        "\n",
        "If you complete this task, the frog will print out an output clearly showing that you have completed the assignment. Test it a few more times to make sure your frog is working consistently, and if it does, **you may now submit this part of the assignment, and move on to the written portion**."
      ],
      "metadata": {
        "id": "lUYo2_Teio4m"
      }
    },
    {
      "cell_type": "code",
      "source": [
        "def remember_door(vision = \"door:!nowhere door_colour:?col\", recall = 'nothing'):\n",
        "  memory.add(\"door_colour:\" + col)\n",
        "  self.parent.frog_body.move('left')\n",
        "  self.parent.frog_body.move('right')\n",
        "  vision.set('nothing')\n",
        "  vision.set('unknown')\n"
      ],
      "metadata": {
        "id": "-iowRvG4_fSm"
      },
      "execution_count": null,
      "outputs": []
    },
    {
      "cell_type": "markdown",
      "source": [
        "# New Section"
      ],
      "metadata": {
        "id": "rQfX10cpAO6B"
      }
    }
  ]
}